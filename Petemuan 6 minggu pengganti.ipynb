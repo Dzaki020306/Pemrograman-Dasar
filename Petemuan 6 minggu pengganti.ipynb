{
  "nbformat": 4,
  "nbformat_minor": 0,
  "metadata": {
    "colab": {
      "provenance": [],
      "authorship_tag": "ABX9TyNvSuDm20jOz/ssD8Icpqej",
      "include_colab_link": true
    },
    "kernelspec": {
      "name": "python3",
      "display_name": "Python 3"
    },
    "language_info": {
      "name": "python"
    }
  },
  "cells": [
    {
      "cell_type": "markdown",
      "metadata": {
        "id": "view-in-github",
        "colab_type": "text"
      },
      "source": [
        "<a href=\"https://colab.research.google.com/github/Dzaki020306/Pemrograman-Dasar/blob/main/Petemuan%206%20minggu%20pengganti.ipynb\" target=\"_parent\"><img src=\"https://colab.research.google.com/assets/colab-badge.svg\" alt=\"Open In Colab\"/></a>"
      ]
    },
    {
      "cell_type": "code",
      "execution_count": null,
      "metadata": {
        "id": "2fPE5leeDU_Z",
        "colab": {
          "base_uri": "https://localhost:8080/"
        },
        "outputId": "9c9be74e-6246-48d9-fbaf-e2963e19b70d"
      },
      "outputs": [
        {
          "output_type": "stream",
          "name": "stdout",
          "text": [
            "Sistem siap. Selamat datang kembali di sesi praktikum.\n"
          ]
        }
      ],
      "source": [
        "#1\n",
        "def sapa_praktikan():\n",
        "    \"\"\"Mencetak pesan sambutan dasar.\"\"\"\n",
        "    print(\"Sistem siap. Selamat datang kembali di sesi praktikum.\")\n",
        "\n",
        "sapa_praktikan()\n"
      ]
    },
    {
      "cell_type": "code",
      "source": [
        "#1 modifikasi\n",
        "def sapa_praktikan():\n",
        "    \"\"\"Mencetak pesan sambutan dasar.\"\"\"\n",
        "    print(\"Sistem siap. Selamat datang kembali di sesi praktikum.\")\n",
        "\n",
        "sapa_praktikan()\n",
        "\n",
        "def Biodata():\n",
        "    \"\"\"Menampilkan biodata lengkap praktikan.\"\"\"\n",
        "    print(\"\\n=== Biodata Praktikan ===\")\n",
        "    print(\"Nama     : Dzaki Naufal\")\n",
        "    print(\"NIM      : 4232401044\")\n",
        "    print(\"Kelas    : RPE 3B PAGI\")\n",
        "    print(\"Prodi    : Teknik Elektro\")\n",
        "    print(\"Hobi     : Bermain bola\")\n",
        "    print(\"==========================\")\n",
        "\n",
        "# Pemanggilan fungsi biodata\n",
        "Biodata()\n"
      ],
      "metadata": {
        "colab": {
          "base_uri": "https://localhost:8080/"
        },
        "id": "Y_wWOvvUChvz",
        "outputId": "7db49f56-2795-4ed6-e23e-0cafdad6528a"
      },
      "execution_count": null,
      "outputs": [
        {
          "output_type": "stream",
          "name": "stdout",
          "text": [
            "Sistem siap. Selamat datang kembali di sesi praktikum.\n",
            "\n",
            "=== Biodata Praktikan ===\n",
            "Nama     : Dzaki Naufal\n",
            "NIM      : 4232401044\n",
            "Kelas    : RPE 3B PAGI\n",
            "Prodi    : Teknik Elektro\n",
            "Hobi     : Bermain bola\n",
            "==========================\n"
          ]
        }
      ]
    },
    {
      "cell_type": "code",
      "source": [
        "#2\n",
        "def hitung_volume_kubus(sisi):\n",
        "    \"\"\"Menghitung volume kubus dari panjang sisinya.\"\"\"\n",
        "    return sisi ** 3\n",
        "\n",
        "panjang_sisi = 5\n",
        "print(f\"Volume kubus dengan sisi {panjang_sisi} adalah: {hitung_volume_kubus(panjang_sisi)}\")\n"
      ],
      "metadata": {
        "colab": {
          "base_uri": "https://localhost:8080/"
        },
        "id": "B_84nU6nDZBL",
        "outputId": "b85889d6-7559-465b-baad-3d262077c8ab"
      },
      "execution_count": null,
      "outputs": [
        {
          "output_type": "stream",
          "name": "stdout",
          "text": [
            "Volume kubus dengan sisi 5 adalah: 125\n"
          ]
        }
      ]
    },
    {
      "cell_type": "code",
      "source": [
        "#2 modifikasi\n",
        "def hitung_volume_balok(panjang, lebar, tinggi):\n",
        "    \"\"\"Menghitung volume balok dari panjang, lebar, dan tinggi.\"\"\"\n",
        "    return panjang * lebar * tinggi\n",
        "\n",
        "p = 4\n",
        "l = 3\n",
        "t = 2\n",
        "print(f\"Volume balok dengan ukuran {p} x {l} x {t} adalah: {hitung_volume_balok(p, l, t)}\")\n"
      ],
      "metadata": {
        "colab": {
          "base_uri": "https://localhost:8080/"
        },
        "id": "ZGZgefX-EPeM",
        "outputId": "062cc579-e2e8-4cfd-fdb9-0a15442a2690"
      },
      "execution_count": null,
      "outputs": [
        {
          "output_type": "stream",
          "name": "stdout",
          "text": [
            "Volume balok dengan ukuran 4 x 3 x 2 adalah: 24\n"
          ]
        }
      ]
    },
    {
      "cell_type": "code",
      "source": [
        "#3\n",
        "def hitung_rata_rata(data_nilai):\n",
        "    \"\"\"Menghitung rata-rata dari list angka menggunakan perulangan for.\"\"\"\n",
        "    total = 0\n",
        "\n",
        "    for nilai in data_nilai:\n",
        "        total += nilai\n",
        "\n",
        "    if total > 0:\n",
        "        return total / len(data_nilai)\n",
        "    return 0\n",
        "\n",
        "nilai_praktikan = [85, 78, 92, 65, 90]\n",
        "print(f\"Nilai rata-rata kelas adalah: {hitung_rata_rata(nilai_praktikan)}\")\n"
      ],
      "metadata": {
        "colab": {
          "base_uri": "https://localhost:8080/"
        },
        "id": "msnYxWWtEvvu",
        "outputId": "2c8b7abc-f433-4c37-a39e-1d8f134d1970"
      },
      "execution_count": null,
      "outputs": [
        {
          "output_type": "stream",
          "name": "stdout",
          "text": [
            "Nilai rata-rata kelas adalah: 82.0\n"
          ]
        }
      ]
    },
    {
      "cell_type": "code",
      "source": [
        "#3modifikasi\n",
        "def hitung_rata_rata(data_nilai):\n",
        "    \"\"\"Menghitung rata-rata dengan pengecekan nilai valid (0-100).\"\"\"\n",
        "    total = 0\n",
        "    jumlah_data_valid = 0\n",
        "\n",
        "    for nilai in data_nilai:\n",
        "        if nilai < 0 or nilai > 100:\n",
        "            print(f\"Nilai {nilai} diabaikan karena tidak valid (0-100).\")\n",
        "            continue\n",
        "        total += nilai\n",
        "        jumlah_data_valid += 1\n",
        "\n",
        "    if jumlah_data_valid > 0:\n",
        "        return total / jumlah_data_valid\n",
        "    return 0\n",
        "\n",
        "nilai_praktikan = [85, 78, 150, -5, 92, 65, 90]\n",
        "print(f\"Nilai rata-rata kelas adalah: {hitung_rata_rata(nilai_praktikan)}\")\n"
      ],
      "metadata": {
        "colab": {
          "base_uri": "https://localhost:8080/"
        },
        "id": "WbIwjDc7FW7_",
        "outputId": "128d59cf-2924-4140-8c50-5fce0715a30c"
      },
      "execution_count": null,
      "outputs": [
        {
          "output_type": "stream",
          "name": "stdout",
          "text": [
            "Nilai 150 diabaikan karena tidak valid (0-100).\n",
            "Nilai -5 diabaikan karena tidak valid (0-100).\n",
            "Nilai rata-rata kelas adalah: 82.0\n"
          ]
        }
      ]
    },
    {
      "cell_type": "code",
      "source": [
        "#4\n",
        "def tentukan_predikat(skor):\n",
        "    \"\"\"Menentukan predikat (A, B, C, D, E) berdasarkan skor.\"\"\"\n",
        "    if skor >= 85:\n",
        "        return \"A\"\n",
        "    elif skor >= 70:\n",
        "        return \"B\"\n",
        "    elif skor >= 60:\n",
        "        return \"C\"\n",
        "    elif skor >= 50:\n",
        "        return \"D\"\n",
        "    else:\n",
        "        return \"E\"\n",
        "\n",
        "print(f\"Skor 75 mendapat predikat: {tentukan_predikat(75)}\")\n",
        "print(f\"Skor 48 mendapat predikat: {tentukan_predikat(48)}\")\n"
      ],
      "metadata": {
        "colab": {
          "base_uri": "https://localhost:8080/"
        },
        "id": "afDj6debGj0l",
        "outputId": "f2ab5ddf-9ed6-4c19-b014-2bc76a8ce4bb"
      },
      "execution_count": null,
      "outputs": [
        {
          "output_type": "stream",
          "name": "stdout",
          "text": [
            "Skor 75 mendapat predikat: B\n",
            "Skor 48 mendapat predikat: E\n"
          ]
        }
      ]
    },
    {
      "cell_type": "code",
      "source": [
        "#4 modifikasi\n",
        "def tentukan_predikat(skor):\n",
        "    \"\"\"Menentukan predikat (A, B, C, D, E) berdasarkan skor dengan validasi input.\"\"\"\n",
        "\n",
        "\n",
        "    if not isinstance(skor, (int, float)):\n",
        "        return \"Error: skor harus berupa angka (int/float)!\"\n",
        "\n",
        "    if skor >= 85:\n",
        "        return \"A\"\n",
        "    elif skor >= 70:\n",
        "        return \"B\"\n",
        "    elif skor >= 60:\n",
        "        return \"C\"\n",
        "    elif skor >= 50:\n",
        "        return \"D\"\n",
        "    else:\n",
        "        return \"E\"\n",
        "\n",
        "print(tentukan_predikat(90))\n",
        "print(tentukan_predikat(\"90\"))\n"
      ],
      "metadata": {
        "id": "B7VWE9xVGkjK",
        "colab": {
          "base_uri": "https://localhost:8080/"
        },
        "outputId": "324191cd-525b-458a-d709-17fa0ef8e5f8"
      },
      "execution_count": null,
      "outputs": [
        {
          "output_type": "stream",
          "name": "stdout",
          "text": [
            "A\n",
            "Error: skor harus berupa angka (int/float)!\n"
          ]
        }
      ]
    },
    {
      "cell_type": "code",
      "source": [
        "#5\n",
        "def hitung_faktorial(n):\n",
        "    \"\"\"Menghitung faktorial dari bilangan positif n.\"\"\"\n",
        "    hasil = 1\n",
        "\n",
        "    while n > 1:\n",
        "        hasil *= n\n",
        "        n -= 1\n",
        "    return hasil\n",
        "\n",
        "bilangan_n = 4\n",
        "print(f\"Faktorial dari {bilangan_n} adalah: {hitung_faktorial(bilangan_n)}\")  # Output: 24\n"
      ],
      "metadata": {
        "colab": {
          "base_uri": "https://localhost:8080/"
        },
        "id": "vQHx74OXzv-I",
        "outputId": "b91d367e-e3a8-44bb-c92e-48407eb71399"
      },
      "execution_count": null,
      "outputs": [
        {
          "output_type": "stream",
          "name": "stdout",
          "text": [
            "Faktorial dari 4 adalah: 24\n"
          ]
        }
      ]
    },
    {
      "cell_type": "code",
      "source": [
        "#5 MODIFIKASI\n",
        "def hitung_faktorial(n):\n",
        "    \"\"\"Menghitung faktorial dari bilangan n dengan pengecekan kasus khusus.\"\"\"\n",
        "\n",
        "    if n < 0:\n",
        "        return \"Error: Faktorial tidak didefinisikan untuk bilangan negatif!\"\n",
        "\n",
        "    if n == 0:\n",
        "        return 1\n",
        "\n",
        "    hasil = 1\n",
        "    while n > 1:\n",
        "        hasil *= n\n",
        "        n -= 1\n",
        "    return hasil\n",
        "\n",
        "print(hitung_faktorial(5))\n",
        "print(hitung_faktorial(0))\n",
        "print(hitung_faktorial(-3))\n"
      ],
      "metadata": {
        "colab": {
          "base_uri": "https://localhost:8080/"
        },
        "id": "rOINh_SazwRp",
        "outputId": "aaaa10e0-b66a-4ff0-f7fa-1f71bf37fcae"
      },
      "execution_count": null,
      "outputs": [
        {
          "output_type": "stream",
          "name": "stdout",
          "text": [
            "120\n",
            "1\n",
            "Error: Faktorial tidak didefinisikan untuk bilangan negatif!\n"
          ]
        }
      ]
    },
    {
      "cell_type": "code",
      "source": [
        "#6\n",
        "def analisis_suhu(data_suhu):\n",
        "    \"\"\"Menghitung jumlah hari Panas dan Dingin dari data_suhu.\"\"\"\n",
        "    panas_count = 0\n",
        "    dingin_count = 0\n",
        "\n",
        "    for suhu in data_suhu:\n",
        "        if suhu >= 35:\n",
        "            panas_count += 1\n",
        "        elif suhu < 15:\n",
        "            dingin_count += 1\n",
        "\n",
        "    return panas_count, dingin_count\n",
        "\n",
        "suhu_mingguan = [36, 30, 14, 25, 38, 16, 28]\n",
        "jumlah_panas, jumlah_dingin = analisis_suhu(suhu_mingguan)\n",
        "print(f\"Jumlah hari Panas (>=35°C): {jumlah_panas}\")\n",
        "print(f\"Jumlah hari Dingin (<15°C): {jumlah_dingin}\")\n"
      ],
      "metadata": {
        "colab": {
          "base_uri": "https://localhost:8080/"
        },
        "id": "f7qsxYjs0tOm",
        "outputId": "1a9c52aa-6f94-4da1-ef97-ff57382394e8"
      },
      "execution_count": null,
      "outputs": [
        {
          "output_type": "stream",
          "name": "stdout",
          "text": [
            "Jumlah hari Panas (>=35°C): 2\n",
            "Jumlah hari Dingin (<15°C): 1\n"
          ]
        }
      ]
    },
    {
      "cell_type": "code",
      "source": [
        "#6 MODIFIKASI\n",
        "def analisis_suhu(data_suhu, batas_panas=35, batas_dingin=15):\n",
        "    \"\"\"Menghitung jumlah hari Panas dan Dingin dengan batas suhu dinamis.\"\"\"\n",
        "    panas_count = 0\n",
        "    dingin_count = 0\n",
        "\n",
        "    for suhu in data_suhu:\n",
        "        if suhu >= batas_panas:\n",
        "            panas_count += 1\n",
        "        elif suhu < batas_dingin:\n",
        "            dingin_count += 1\n",
        "\n",
        "    return panas_count, dingin_count\n",
        "\n",
        "suhu_mingguan = [36, 30, 14, 25, 38, 16, 28]\n",
        "jumlah_panas, jumlah_dingin = analisis_suhu(suhu_mingguan)\n",
        "print(f\"Jumlah hari Panas (>=35°C): {jumlah_panas}\")S\n",
        "print(f\"Jumlah hari Dingin (<15°C): {jumlah_dingin}\")\n",
        "\n",
        "jumlah_panas2, jumlah_dingin2 = analisis_suhu(suhu_mingguan, batas_panas=32, batas_dingin=18)\n",
        "print(f\"\\nDengan batas baru:\")\n",
        "print(f\"Panas (>=32°C): {jumlah_panas2}\")\n",
        "print(f\"Dingin (<18°C): {jumlah_dingin2}\")\n"
      ],
      "metadata": {
        "colab": {
          "base_uri": "https://localhost:8080/"
        },
        "id": "29OQga2r0tll",
        "outputId": "4ad1a846-62b9-44e7-c941-c84e4b99cfe1"
      },
      "execution_count": null,
      "outputs": [
        {
          "output_type": "stream",
          "name": "stdout",
          "text": [
            "Jumlah hari Panas (>=35°C): 2\n",
            "Jumlah hari Dingin (<15°C): 1\n",
            "\n",
            "Dengan batas baru:\n",
            "Panas (>=32°C): 2\n",
            "Dingin (<18°C): 2\n"
          ]
        }
      ]
    }
  ]
}