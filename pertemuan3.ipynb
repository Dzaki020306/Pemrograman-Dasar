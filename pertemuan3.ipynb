{
  "nbformat": 4,
  "nbformat_minor": 0,
  "metadata": {
    "colab": {
      "provenance": [],
      "authorship_tag": "ABX9TyOI6hLp2dzpcHAH2YVtOT6c",
      "include_colab_link": true
    },
    "kernelspec": {
      "name": "python3",
      "display_name": "Python 3"
    },
    "language_info": {
      "name": "python"
    }
  },
  "cells": [
    {
      "cell_type": "markdown",
      "metadata": {
        "id": "view-in-github",
        "colab_type": "text"
      },
      "source": [
        "<a href=\"https://colab.research.google.com/github/Dzaki020306/Pemrograman-Dasar/blob/main/pertemuan3.ipynb\" target=\"_parent\"><img src=\"https://colab.research.google.com/assets/colab-badge.svg\" alt=\"Open In Colab\"/></a>"
      ]
    },
    {
      "cell_type": "code",
      "execution_count": null,
      "metadata": {
        "colab": {
          "base_uri": "https://localhost:8080/"
        },
        "id": "XZpwkHvcUPE6",
        "outputId": "039b6aff-97f3-40c2-ec90-417212b16316"
      },
      "outputs": [
        {
          "name": "stdout",
          "output_type": "stream",
          "text": [
            "Berapa porsi makan yang anda beli? :1\n",
            "Siapa nama pelanggan ? : Dzaki\n"
          ]
        }
      ],
      "source": [
        "#jelaskan pada laporan\n",
        "\n",
        "total = input(\"Berapa porsi makan yang anda beli? :\")\n",
        "nama = input(\"Siapa nama pelanggan ? : \")\n"
      ]
    },
    {
      "cell_type": "code",
      "source": [
        "#jelaskan pada laporan\n",
        "\n",
        "total = float(input(\"Berapa porsi makanan yang anda beli? : \"))\n",
        "nama = str(input(\"siapa nama pelangganan ? : \"))\n",
        "print(f\"nama pelenaggan : {nama}\")\n",
        "print(f\"nama pelenaggan : {total}\")"
      ],
      "metadata": {
        "colab": {
          "base_uri": "https://localhost:8080/"
        },
        "id": "0zWiwCv8W6DK",
        "outputId": "78503926-48f9-4178-b08f-93b1f48c6f3f"
      },
      "execution_count": null,
      "outputs": [
        {
          "output_type": "stream",
          "name": "stdout",
          "text": [
            "Berapa porsi makanan yang anda beli? : 1\n",
            "siapa nama pelangganan ? : Dzaki\n",
            "nama pelenaggan : Dzaki\n",
            "nama pelenaggan : 1.0\n"
          ]
        }
      ]
    },
    {
      "cell_type": "code",
      "source": [
        "food = \"mi ayam bakso\"\n",
        "print(\"dzaki sedang memesan\", food)"
      ],
      "metadata": {
        "colab": {
          "base_uri": "https://localhost:8080/"
        },
        "id": "D4CHPKHDYocj",
        "outputId": "ec85db8d-f7e3-4556-8375-3084112e45f1"
      },
      "execution_count": null,
      "outputs": [
        {
          "output_type": "stream",
          "name": "stdout",
          "text": [
            "dzaki sedang memesan mi ayam bakso\n"
          ]
        }
      ]
    },
    {
      "cell_type": "code",
      "source": [
        "#jelaskan pada laporan\n",
        "\n",
        "food = \"mie ayam bakso\"\n",
        "print(\"dzaki lagi pesen\", food)\n",
        "print(\"dzaki lagi pesen \"+ food)\n",
        "print(\"dzaki lagi pesen %s\" % (food))"
      ],
      "metadata": {
        "colab": {
          "base_uri": "https://localhost:8080/"
        },
        "id": "Ee8Qy4WdZcK7",
        "outputId": "24dcb0ad-0ad5-4a11-c70c-ed267926dfa1"
      },
      "execution_count": null,
      "outputs": [
        {
          "output_type": "stream",
          "name": "stdout",
          "text": [
            "dzaki lagi pesen mie ayam bakso\n",
            "dzaki lagi pesen mie ayam bakso\n",
            "dzaki lagi pesen mie ayam bakso\n"
          ]
        }
      ]
    },
    {
      "cell_type": "code",
      "source": [
        "nama = \"Dzaki\"\n",
        "usia = 20\n",
        "tinggi = 170.5\n",
        "angka_hex = 255\n",
        "angka_oct = 64\n",
        "\n",
        "print(\"Nama saya adalah %s\" % nama)\n",
        "print(\"Usia saya %d tahun\" % usia)\n",
        "print(\"Tinggi badan saya %.2f cm\" % tinggi)\n",
        "print(\"Nilai dalam hexa: %x\" % angka_hex)\n",
        "print(\"Nilai dalam octal: %o\" % angka_oct)\n"
      ],
      "metadata": {
        "colab": {
          "base_uri": "https://localhost:8080/"
        },
        "id": "-r01WrydKwpz",
        "outputId": "2c159fd6-1680-4df2-9edb-4af98e57e281"
      },
      "execution_count": null,
      "outputs": [
        {
          "output_type": "stream",
          "name": "stdout",
          "text": [
            "Nama saya adalah Dzaki\n",
            "Usia saya 20 tahun\n",
            "Tinggi badan saya 170.50 cm\n",
            "Nilai dalam hexa: ff\n",
            "Nilai dalam octal: 100\n"
          ]
        }
      ]
    },
    {
      "cell_type": "code",
      "source": [
        "#kalkulator sederhana\n",
        "\n",
        "a = 20\n",
        "b = 5\n",
        "print(\"penjumlahan:\", a + b)\n",
        "print(\"pengurangan:\", a - b)\n",
        "print(\"perkalian:\", a * b)\n",
        "print(\"pembagian:\", a / b)"
      ],
      "metadata": {
        "colab": {
          "base_uri": "https://localhost:8080/"
        },
        "id": "bj2G3Ci9bGCb",
        "outputId": "e0d614a4-22f3-419d-d2a7-7d6c1aa3f326"
      },
      "execution_count": null,
      "outputs": [
        {
          "output_type": "stream",
          "name": "stdout",
          "text": [
            "penjumlahan: 25\n",
            "pengurangan: 15\n",
            "perkalian: 100\n",
            "pembagian: 4.0\n"
          ]
        }
      ]
    },
    {
      "cell_type": "code",
      "source": [
        "#mengecekbilangan\n",
        "\n",
        "bilangan = 8\n",
        "hasil = (bilangan > 2) and (bilangan % 2 == 0)\n",
        "print(\"genap dan positif?\", hasil)"
      ],
      "metadata": {
        "colab": {
          "base_uri": "https://localhost:8080/"
        },
        "id": "eiu0PtLWb9Nj",
        "outputId": "c6d0529f-b80f-4d96-e45e-ae521e2fe658"
      },
      "execution_count": null,
      "outputs": [
        {
          "output_type": "stream",
          "name": "stdout",
          "text": [
            "genap dan positif? True\n"
          ]
        }
      ]
    },
    {
      "cell_type": "code",
      "source": [
        "#kalkulator kasir\n",
        "\n",
        "harga_makan = int(input(\"berapa harga ayam geprek aulia villa muka kuning porsi? \"))\n",
        "jumlah_makan = int(input(\"berapa porsi yang anda beli? \"))\n",
        "total_makan = harga_makan * jumlah_makan\n",
        "\n",
        "print(f\"harga makan per porsi = {harga_makan}, totalnya adalah {total_makan}\")"
      ],
      "metadata": {
        "colab": {
          "base_uri": "https://localhost:8080/"
        },
        "id": "IxElLpyAckx0",
        "outputId": "9534d07a-70b8-43e4-c60f-845ba6c37b93"
      },
      "execution_count": null,
      "outputs": [
        {
          "output_type": "stream",
          "name": "stdout",
          "text": [
            "berapa harga ayam geprek aulia villa muka kuning porsi? 8000\n",
            "berapa porsi yang anda beli? 3\n",
            "harga makan per porsi = 8000, totalnya adalah 24000\n"
          ]
        }
      ]
    },
    {
      "cell_type": "code",
      "source": [
        "#ekspresi jelaskan pada laporan\n",
        "\n",
        "total_detik = 3600\n",
        "jam = total_detik // 3600\n",
        "sisa_detik = total_detik % 3600\n",
        "menit = sisa_detik // 6\n",
        "detik = sisa_detik % 60\n",
        "\n",
        "print(f\"hasil konversi: {jam} jam, {menit} menit, {detik} detik\")\n",
        "total_detik = int (input(\"total_detik\"))"
      ],
      "metadata": {
        "colab": {
          "base_uri": "https://localhost:8080/"
        },
        "id": "rnwAPl0neUi7",
        "outputId": "465869d7-63d3-4b3b-b69c-a32759bac0c3"
      },
      "execution_count": 3,
      "outputs": [
        {
          "name": "stdout",
          "output_type": "stream",
          "text": [
            "hasil konversi: 1 jam, 0 menit, 0 detik\n",
            "total_detik3582000\n"
          ]
        }
      ]
    },
    {
      "cell_type": "code",
      "source": [
        "total_detik = 3600\n",
        "jam = total_detik // 3600\n",
        "sisa_detik = total_detik % 3600\n",
        "menit = sisa_detik // 6\n",
        "detik = sisa_detik % 60\n",
        "\n",
        "print(f\"hasil konversi: {jam} jam, {menit} menit, {detik} detik\")"
      ],
      "metadata": {
        "colab": {
          "base_uri": "https://localhost:8080/"
        },
        "id": "-rWyGghSJmTu",
        "outputId": "66ddcf02-22af-45b9-fe04-792d59d1e129"
      },
      "execution_count": 4,
      "outputs": [
        {
          "output_type": "stream",
          "name": "stdout",
          "text": [
            "hasil konversi: 1 jam, 0 menit, 0 detik\n"
          ]
        }
      ]
    },
    {
      "cell_type": "code",
      "source": [
        "#2ekspresi\n",
        "\n",
        "tugas = 80\n",
        "uts = 70\n",
        "uas = 90\n",
        "nilai_akhir = (0.6 * tugas) + (0.2 * uts) + (0.2 * uas)\n",
        "print(\"nilai akhir =\", nilai_akhir)"
      ],
      "metadata": {
        "colab": {
          "base_uri": "https://localhost:8080/"
        },
        "id": "246e3F3ke7u0",
        "outputId": "47ed81eb-08ca-4c08-8f73-ae17fb513817"
      },
      "execution_count": null,
      "outputs": [
        {
          "output_type": "stream",
          "name": "stdout",
          "text": [
            "nilai akhir = 80.0\n"
          ]
        }
      ]
    },
    {
      "cell_type": "code",
      "source": [
        "#3ekspresi jelaskan pada laporan\n",
        "\n",
        "nilai_mahasiswa = 90\n",
        "standar_kelulusan = 80\n",
        "apakah_lulus = nilai_mahasiswa >= standar_kelulusan\n",
        "perlu_remedial = nilai_mahasiswa < standar_kelulusan\n",
        "\n",
        "print(f\"nilai mahasiswa: {nilai_mahasiswa}\")\n",
        "print(f\"standar kelulusan: {standar_kelulusan}\")\n",
        "print(f\"apakah maahsiswa lulus: {apakah_lulus}\")\n",
        "print(f\"perlu remedial? {perlu_remedial}\")\n"
      ],
      "metadata": {
        "colab": {
          "base_uri": "https://localhost:8080/"
        },
        "id": "ZYg-S8K1f029",
        "outputId": "7c297493-6fb0-495b-8225-04052a8abd56"
      },
      "execution_count": null,
      "outputs": [
        {
          "output_type": "stream",
          "name": "stdout",
          "text": [
            "nilai mahasiswa: 90\n",
            "standar kelulusan: 80\n",
            "apakah maahsiswa lulus: True\n",
            "perlu remedial? False\n"
          ]
        }
      ]
    },
    {
      "cell_type": "code",
      "source": [
        "tugas1 = float(input(\"Masukkan nilai Tugas 1: \"))\n",
        "tugas2 = float(input(\"Masukkan nilai Tugas 2: \"))\n",
        "uts = float(input(\"Masukkan nilai UTS: \"))\n",
        "uas = float(input(\"Masukkan nilai UAS: \"))\n",
        "project = float(input(\"Masukkan nilai Project: \"))\n",
        "\n",
        "standar_kelulusan = float(input(\"Masukkan standar kelulusan: \"))\n",
        "nilai_mahasiswa = (0.15 * tugas1) + (0.15 * tugas2) + (0.25 * uts) + (0.25 * uas) + (0.20 * project)\n",
        "apakah_lulus = nilai_mahasiswa >= standar_kelulusan\n",
        "perlu_remedial = nilai_mahasiswa < standar_kelulusan\n",
        "\n",
        "print(f\"\\nNilai Akhir Mahasiswa = {nilai_mahasiswa}\")\n",
        "print(f\"Standar Kelulusan = {standar_kelulusan}\")\n",
        "print(f\"Apakah Mahasiswa Lulus? {apakah_lulus}\")\n",
        "print(f\"Perlu Remedial? {perlu_remedial}\")\n"
      ],
      "metadata": {
        "colab": {
          "base_uri": "https://localhost:8080/"
        },
        "id": "mjm9_yOfNQN1",
        "outputId": "55158632-a949-4ff1-9854-e5c6057b6140"
      },
      "execution_count": 10,
      "outputs": [
        {
          "output_type": "stream",
          "name": "stdout",
          "text": [
            "Masukkan nilai Tugas 1: 85\n",
            "Masukkan nilai Tugas 2: 95\n",
            "Masukkan nilai UTS: 88\n",
            "Masukkan nilai UAS: 80\n",
            "Masukkan nilai Project: 87\n",
            "Masukkan standar kelulusan: 85\n",
            "\n",
            "Nilai Akhir Mahasiswa = 86.4\n",
            "Standar Kelulusan = 85.0\n",
            "Apakah Mahasiswa Lulus? True\n",
            "Perlu Remedial? False\n"
          ]
        }
      ]
    },
    {
      "cell_type": "code",
      "source": [
        "#4ekspresi jelaskan pada laporan\n",
        "\n",
        "belanja = 1000000\n",
        "diskon = (0, 0.1 * belanja)[belanja > 500000]\n",
        "total_harga = belanja - diskon\n",
        "\n",
        "print(\"total harga setelah diskon =\", total_harga)"
      ],
      "metadata": {
        "colab": {
          "base_uri": "https://localhost:8080/"
        },
        "id": "F4LY2M3mhLJN",
        "outputId": "a4727ed3-6e55-47e2-def7-0657666a333d"
      },
      "execution_count": 14,
      "outputs": [
        {
          "output_type": "stream",
          "name": "stdout",
          "text": [
            "total harga setelah diskon = 900000.0\n"
          ]
        }
      ]
    },
    {
      "cell_type": "code",
      "source": [
        "\n",
        "belanja = 2000000\n",
        "diskon = (0, 0.35 * belanja)[belanja > 500000]\n",
        "total_harga = belanja - diskon\n",
        "\n",
        "print(\"total harga setelah diskon =\", total_harga)\n"
      ],
      "metadata": {
        "colab": {
          "base_uri": "https://localhost:8080/"
        },
        "id": "xja-Nu3WTk9Q",
        "outputId": "a538646b-2467-45d3-ca18-5e8f5e836b59"
      },
      "execution_count": 15,
      "outputs": [
        {
          "output_type": "stream",
          "name": "stdout",
          "text": [
            "total harga setelah diskon = 1300000.0\n"
          ]
        }
      ]
    },
    {
      "cell_type": "code",
      "source": [
        "def kabisat(tahun):\n",
        "    return (tahun % 4 == 0 and tahun % 100 != 0) or (tahun % 400 == 0)\n",
        "\n",
        "print(\"2024 :\", kabisat(2024))\n",
        "print(\"2100 :\", kabisat(2100))\n",
        "print(\"2000 :\", kabisat(2000))\n",
        "print(\"2023 :\", kabisat(2023))"
      ],
      "metadata": {
        "colab": {
          "base_uri": "https://localhost:8080/"
        },
        "id": "KAoItOrTVUGm",
        "outputId": "aa404594-8e2b-4444-c0da-0393e13d37ce"
      },
      "execution_count": 16,
      "outputs": [
        {
          "output_type": "stream",
          "name": "stdout",
          "text": [
            "2024 : True\n",
            "2100 : False\n",
            "2000 : True\n",
            "2023 : False\n"
          ]
        }
      ]
    },
    {
      "cell_type": "code",
      "source": [
        "tahun = 2025\n",
        "tahun_kabisat = (tahun % 4 == 0) and (tahun % 100 != 0) or (tahun % 400 == 0)\n",
        "print(tahun_kabisat)"
      ],
      "metadata": {
        "colab": {
          "base_uri": "https://localhost:8080/"
        },
        "id": "fce8mfCcVXXZ",
        "outputId": "12896980-b298-43a4-bf0c-df769569c85c"
      },
      "execution_count": 17,
      "outputs": [
        {
          "output_type": "stream",
          "name": "stdout",
          "text": [
            "False\n"
          ]
        }
      ]
    },
    {
      "cell_type": "code",
      "source": [
        "#Tugas\n",
        "\n",
        "jumlah_item = int(input(\"Masukkan jumlah item yang dibeli: \"))\n",
        "harga_items = []\n",
        "for i in range(jumlah_item):\n",
        "    harga = float(input(f\"Masukkan harga item ke-{i+1}: \"))\n",
        "    harga_items.append(harga)\n",
        "status_member = input(\"Apakah pelanggan member? (y/n): \").lower()\n",
        "subtotal = sum(harga_items)\n",
        "berhak_diskon = (status_member == 'y') and (subtotal > 100000)\n",
        "diskon = subtotal * 0.15 if berhak_diskon else 0\n",
        "harga_setelah_diskon = subtotal - diskon\n",
        "ppn = harga_setelah_diskon * 0.11\n",
        "total_akhir = harga_setelah_diskon + ppn\n",
        "\n",
        "print(\"\\n===== STRUK PEMBAYARAN =====\")\n",
        "print(f\"Subtotal           : Rp{subtotal:,.0f}\")\n",
        "print(f\"Diskon (15%)       : Rp{diskon:,.0f}\")\n",
        "print(f\"Harga setelah diskon: Rp{harga_setelah_diskon:,.0f}\")\n",
        "print(f\"PPN (11%)          : Rp{ppn:,.0f}\")\n",
        "print(f\"Total yang harus dibayar: Rp{total_akhir:,.0f}\")\n"
      ],
      "metadata": {
        "colab": {
          "base_uri": "https://localhost:8080/"
        },
        "id": "Pg_KRR0RVa4Y",
        "outputId": "a4cab584-27e1-4b01-964f-ff03756ce3f2"
      },
      "execution_count": 18,
      "outputs": [
        {
          "output_type": "stream",
          "name": "stdout",
          "text": [
            "Masukkan jumlah item yang dibeli: 2\n",
            "Masukkan harga item ke-1: 14000\n",
            "Masukkan harga item ke-2: 35000\n",
            "Apakah pelanggan member? (y/n): n\n",
            "\n",
            "===== STRUK PEMBAYARAN =====\n",
            "Subtotal           : Rp49,000\n",
            "Diskon (15%)       : Rp0\n",
            "Harga setelah diskon: Rp49,000\n",
            "PPN (11%)          : Rp5,390\n",
            "Total yang harus dibayar: Rp54,390\n"
          ]
        }
      ]
    }
  ]
}