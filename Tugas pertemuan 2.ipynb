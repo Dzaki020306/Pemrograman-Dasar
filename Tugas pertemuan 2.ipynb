{
  "nbformat": 4,
  "nbformat_minor": 0,
  "metadata": {
    "colab": {
      "provenance": [],
      "authorship_tag": "ABX9TyPLuH1+Rwb1xDJpT2mxljRB",
      "include_colab_link": true
    },
    "kernelspec": {
      "name": "python3",
      "display_name": "Python 3"
    },
    "language_info": {
      "name": "python"
    }
  },
  "cells": [
    {
      "cell_type": "markdown",
      "metadata": {
        "id": "view-in-github",
        "colab_type": "text"
      },
      "source": [
        "<a href=\"https://colab.research.google.com/github/Dzaki020306/Pemrograman-Dasar/blob/main/Tugas%20pertemuan%202.ipynb\" target=\"_parent\"><img src=\"https://colab.research.google.com/assets/colab-badge.svg\" alt=\"Open In Colab\"/></a>"
      ]
    },
    {
      "cell_type": "code",
      "execution_count": null,
      "metadata": {
        "colab": {
          "base_uri": "https://localhost:8080/"
        },
        "id": "kasnwSH227A9",
        "outputId": "2565337a-40a2-48a8-b17c-5a8d1a08faf2"
      },
      "outputs": [
        {
          "output_type": "stream",
          "name": "stdout",
          "text": [
            "nama depan : Dzaki Naufal\n",
            "nama belakang : Ilham\n",
            "umur : 19\n",
            "status menikah : False\n"
          ]
        }
      ],
      "source": [
        "#TODO\n",
        "\n",
        "firstName = \"Dzaki Naufal\"\n",
        "lastName = \"Ilham\"\n",
        "age = 19\n",
        "isMarried = False\n",
        "\n",
        "print(\"nama depan :\", firstName)\n",
        "print(\"nama belakang :\", lastName)\n",
        "print(\"umur :\", age)\n",
        "print(\"status menikah :\", isMarried)"
      ]
    },
    {
      "cell_type": "code",
      "source": [
        "#2_TODO\n",
        "\n",
        "data_diri = {\n",
        "    \"firstName\": \"Dzaki\",\n",
        "    \"lastName\": \"Naufal Ilham\",\n",
        "    \"age\": 19,\n",
        "    \"isMarried\": False\n",
        "}\n",
        "print(f\"Nama Depan       : {data_diri['firstName']}\")\n",
        "print(f\"Nama Belakang    : {data_diri['lastName']}\")\n",
        "print(f\"Umur             : {data_diri['age']} tahun\")\n",
        "print(f\"Status Pernikahan: {'Sudah Menikah' if data_diri['isMarried'] else 'Belum Menikah'}\")"
      ],
      "metadata": {
        "colab": {
          "base_uri": "https://localhost:8080/"
        },
        "id": "k9JmMCBgqunR",
        "outputId": "6a8c199c-6e23-4d4f-de18-cfa23b98b05d"
      },
      "execution_count": null,
      "outputs": [
        {
          "output_type": "stream",
          "name": "stdout",
          "text": [
            "Nama Depan       : Dzaki\n",
            "Nama Belakang    : Naufal Ilham\n",
            "Umur             : 19 tahun\n",
            "Status Pernikahan: Belum Menikah\n"
          ]
        }
      ]
    },
    {
      "cell_type": "code",
      "source": [
        "#3_TODO\n",
        "\n",
        "inspeksi = [\n",
        "    \"pemahaman terhadap rencana dan desain\",\n",
        "    \"ketersediaan bahan dan peralatan\",\n",
        "    \"pengawasan pekerjaan\",\n",
        "    \"kualitas konstruksi\",\n",
        "    \"keselamatan kerja\",\n",
        "    \"koordinasi dengan pemilik proyek\"\n",
        "]\n",
        "print(\"DAFTAR INSPEKSI:\")\n",
        "for item in inspeksi:\n",
        "    print(\":\", item)"
      ],
      "metadata": {
        "colab": {
          "base_uri": "https://localhost:8080/"
        },
        "id": "ELExQybsumv0",
        "outputId": "4df26d15-88cb-48b8-d224-def2dabb475c"
      },
      "execution_count": null,
      "outputs": [
        {
          "output_type": "stream",
          "name": "stdout",
          "text": [
            "DAFTAR INSPEKSI:\n",
            ": pemahaman terhadap rencana dan desain\n",
            ": ketersediaan bahan dan peralatan\n",
            ": pengawasan pekerjaan\n",
            ": kualitas konstruksi\n",
            ": keselamatan kerja\n",
            ": koordinasi dengan pemilik proyek\n"
          ]
        }
      ]
    },
    {
      "cell_type": "code",
      "source": [
        "#4_TODO\n",
        "\n",
        "startTime = {\n",
        "    \"HH\": 9,\n",
        "    \"mm\": 23,\n",
        "    \"ss\": 57\n",
        "}\n",
        "endTime = {\n",
        "    \"HH\": 15,\n",
        "    \"mm\": 25,\n",
        "    \"ss\": 43\n",
        "}\n",
        "print(\"WAKTU DATANG:\", startTime)\n",
        "print(\"WAKTU PULANG:\", endTime)"
      ],
      "metadata": {
        "colab": {
          "base_uri": "https://localhost:8080/"
        },
        "id": "EJki97jswemF",
        "outputId": "297766f3-c21d-4fe0-e005-547a0d149d2f"
      },
      "execution_count": null,
      "outputs": [
        {
          "output_type": "stream",
          "name": "stdout",
          "text": [
            "WAKTU DATANG: {'HH': 9, 'mm': 23, 'ss': 57}\n",
            "WAKTU PULANG: {'HH': 15, 'mm': 25, 'ss': 43}\n"
          ]
        }
      ]
    },
    {
      "cell_type": "code",
      "source": [
        "#5_TODO\n",
        "\n",
        "katalog_A = {\"Laptop\", \"Mouse\", \"Keyboard\", \"Monitor\"}\n",
        "katalog_B = {\"Printer\", \"Mouse\", \"Speaker\", \"Monitor\"}\n",
        "produk_diskon = (\"Laptop\", \"Speaker\", \"Tablet\")\n",
        "\n",
        "print(\"Katalog Lengkap :\", katalog_lengkap)\n",
        "print(\"Produk Diskon :\", produk_diskon)\n",
        "print(\"Produk Promo Aktif :\", produk_promo_aktif)"
      ],
      "metadata": {
        "colab": {
          "base_uri": "https://localhost:8080/"
        },
        "id": "d61u_YF3xTDf",
        "outputId": "71777b80-8f11-4f43-a91d-bfa79b6c802b"
      },
      "execution_count": null,
      "outputs": [
        {
          "output_type": "stream",
          "name": "stdout",
          "text": [
            "Katalog Lengkap : {'Keyboard', 'Mouse', 'Monitor', 'Speaker', 'Printer', 'Laptop'}\n",
            "Produk Diskon : ('Laptop', 'Speaker', 'Tablet')\n",
            "Produk Promo Aktif : {'Speaker', 'Laptop'}\n"
          ]
        }
      ]
    }
  ]
}