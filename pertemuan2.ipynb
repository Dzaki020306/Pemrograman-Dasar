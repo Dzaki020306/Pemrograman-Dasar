{
  "nbformat": 4,
  "nbformat_minor": 0,
  "metadata": {
    "colab": {
      "provenance": [],
      "authorship_tag": "ABX9TyNdO6IrAD0uC311IS7anVMN",
      "include_colab_link": true
    },
    "kernelspec": {
      "name": "python3",
      "display_name": "Python 3"
    },
    "language_info": {
      "name": "python"
    }
  },
  "cells": [
    {
      "cell_type": "markdown",
      "metadata": {
        "id": "view-in-github",
        "colab_type": "text"
      },
      "source": [
        "<a href=\"https://colab.research.google.com/github/Dzaki020306/Pemrograman-Dasar/blob/main/pertemuan2.ipynb\" target=\"_parent\"><img src=\"https://colab.research.google.com/assets/colab-badge.svg\" alt=\"Open In Colab\"/></a>"
      ]
    },
    {
      "cell_type": "code",
      "execution_count": null,
      "metadata": {
        "colab": {
          "base_uri": "https://localhost:8080/"
        },
        "id": "hkHArl2FUN7n",
        "outputId": "1ebdc9ce-5ffd-41a8-98b5-c9db0b4aaef6"
      },
      "outputs": [
        {
          "output_type": "stream",
          "name": "stdout",
          "text": [
            "20\n",
            "11642696\n",
            "25\n",
            "11642856\n"
          ]
        }
      ],
      "source": [
        "#numbers_immutable\n",
        "\n",
        "var = 20\n",
        "print(var)\n",
        "print(id(var))\n",
        "\n",
        "var = 25\n",
        "print(var)\n",
        "print(id(var))\n"
      ]
    },
    {
      "cell_type": "code",
      "source": [
        "#Formatted String\n",
        "\n",
        "name = \"Dzaki Naufal Ilham\"\n",
        "print(f\"hello, nama saya {name}\")\n"
      ],
      "metadata": {
        "colab": {
          "base_uri": "https://localhost:8080/"
        },
        "id": "1eFLLjeNaV-1",
        "outputId": "05dae8ff-8cbd-41c1-a90e-a279b928bce9"
      },
      "execution_count": null,
      "outputs": [
        {
          "output_type": "stream",
          "name": "stdout",
          "text": [
            "hello, nama saya Dzaki Naufal Ilham\n"
          ]
        }
      ]
    },
    {
      "cell_type": "code",
      "source": [
        "#%-formating\n",
        "\n",
        "name = \"Dzaki Naufal Ilham\"\n",
        "print(\"nama saya %s\" %(name))"
      ],
      "metadata": {
        "colab": {
          "base_uri": "https://localhost:8080/"
        },
        "id": "bKGiuN8CalUG",
        "outputId": "f718132d-0cff-4f13-e017-6c2e9c8f848e"
      },
      "execution_count": null,
      "outputs": [
        {
          "output_type": "stream",
          "name": "stdout",
          "text": [
            "nama saya Dzaki Naufal Ilham\n"
          ]
        }
      ]
    },
    {
      "cell_type": "code",
      "source": [
        "#str_format()\n",
        "\n",
        "name = \"Dzaki Naufal Ilham\"\n",
        "print(\"nama saya {}\".format(name))"
      ],
      "metadata": {
        "colab": {
          "base_uri": "https://localhost:8080/"
        },
        "id": "exf4_nq1awz8",
        "outputId": "5a3a7dca-5068-4af9-8bc8-15a681979620"
      },
      "execution_count": null,
      "outputs": [
        {
          "output_type": "stream",
          "name": "stdout",
          "text": [
            "nama saya Dzaki Naufal Ilham\n"
          ]
        }
      ]
    },
    {
      "cell_type": "code",
      "source": [
        "#str_format()\n",
        "\n",
        "nama = \"Dzaki Naufal Ilham\"\n",
        "print(\"nama saya :\", nama)"
      ],
      "metadata": {
        "colab": {
          "base_uri": "https://localhost:8080/"
        },
        "id": "MyO1AbHrbCdM",
        "outputId": "8241c1ed-9135-42f7-967d-a0f6451d1f0e"
      },
      "execution_count": null,
      "outputs": [
        {
          "output_type": "stream",
          "name": "stdout",
          "text": [
            "nama saya : Dzaki Naufal Ilham\n"
          ]
        }
      ]
    },
    {
      "cell_type": "code",
      "source": [
        "#age\n",
        "\n",
        "age = 19\n",
        "salary = 700000.0\n",
        "\n",
        "print(type(age))\n",
        "print(type(salary))"
      ],
      "metadata": {
        "colab": {
          "base_uri": "https://localhost:8080/"
        },
        "id": "b7meeC16bau0",
        "outputId": "70c4e707-50bc-40a5-9075-1c40ac11c2f5"
      },
      "execution_count": null,
      "outputs": [
        {
          "output_type": "stream",
          "name": "stdout",
          "text": [
            "<class 'int'>\n",
            "<class 'float'>\n"
          ]
        }
      ]
    },
    {
      "cell_type": "code",
      "source": [
        "#dynamic_typing\n",
        "\n",
        "x = 2\n",
        "print(type(x))\n",
        "\n",
        "x = \"6\"\n",
        "print(type(x))"
      ],
      "metadata": {
        "colab": {
          "base_uri": "https://localhost:8080/"
        },
        "id": "WVcJtrrNby_l",
        "outputId": "b2fa1642-cdd3-4c02-f435-8e89f8ff876b"
      },
      "execution_count": null,
      "outputs": [
        {
          "output_type": "stream",
          "name": "stdout",
          "text": [
            "<class 'int'>\n",
            "<class 'str'>\n"
          ]
        }
      ]
    },
    {
      "cell_type": "code",
      "source": [
        "#Boolean(bool)\n",
        "\n",
        "x = True\n",
        "print(type(x))\n",
        "\n",
        "x = False\n",
        "print(type(x))\n"
      ],
      "metadata": {
        "colab": {
          "base_uri": "https://localhost:8080/"
        },
        "id": "OauJdsGAb9OD",
        "outputId": "6650a827-98d0-450e-e40e-a84b94182d84"
      },
      "execution_count": null,
      "outputs": [
        {
          "output_type": "stream",
          "name": "stdout",
          "text": [
            "<class 'bool'>\n",
            "<class 'bool'>\n"
          ]
        }
      ]
    },
    {
      "cell_type": "code",
      "source": [
        "#String_Single_Line\n",
        "\n",
        "x = 'Polibatam'\n",
        "print(type(x))"
      ],
      "metadata": {
        "colab": {
          "base_uri": "https://localhost:8080/"
        },
        "id": "PLoMETsSeFme",
        "outputId": "6398d950-c6f1-4f61-e32a-73db99a7cad0"
      },
      "execution_count": null,
      "outputs": [
        {
          "output_type": "stream",
          "name": "stdout",
          "text": [
            "<class 'str'>\n"
          ]
        }
      ]
    },
    {
      "cell_type": "code",
      "source": [
        "#String_multi_line\n",
        "\n",
        "multi_line = \"\"\"Halo!\n",
        "masi sedih dengan kekalahan di final europa league 2024/2025\n",
        "yang unbeaten dari fase grup sampe ke final\n",
        "dan kalah nya hanya di final.\"\"\"\n",
        "\n",
        "print(multi_line)"
      ],
      "metadata": {
        "colab": {
          "base_uri": "https://localhost:8080/"
        },
        "id": "s4J6QlyFeddE",
        "outputId": "3e1c922b-d738-4a74-c57b-51d3f04218a3"
      },
      "execution_count": null,
      "outputs": [
        {
          "output_type": "stream",
          "name": "stdout",
          "text": [
            "Halo!\n",
            "masi sedih dengan kekalahan di final europa league 2024/2025\n",
            "yang unbeaten dari fase grup sampe ke final\n",
            "dan kalah nya hanya di final.\n"
          ]
        }
      ]
    },
    {
      "cell_type": "code",
      "source": [
        "#Metode_indexing\n",
        "\n",
        "x = 'Polibatam'\n",
        "print(x[7])"
      ],
      "metadata": {
        "colab": {
          "base_uri": "https://localhost:8080/"
        },
        "id": "flwy7NkGfqfl",
        "outputId": "bef4716d-ba2d-4b6c-9906-fe02e17f7123"
      },
      "execution_count": null,
      "outputs": [
        {
          "output_type": "stream",
          "name": "stdout",
          "text": [
            "a\n"
          ]
        }
      ]
    },
    {
      "cell_type": "code",
      "source": [
        "#2_Metode_indexing\n",
        "\n",
        "x = 'Polibatam'\n",
        "x[0] = 'f'"
      ],
      "metadata": {
        "colab": {
          "base_uri": "https://localhost:8080/",
          "height": 176
        },
        "id": "hhEAUJZKgJyG",
        "outputId": "f51284e7-cf14-429b-987b-6e72ec95ff99"
      },
      "execution_count": null,
      "outputs": [
        {
          "output_type": "error",
          "ename": "TypeError",
          "evalue": "'str' object does not support item assignment",
          "traceback": [
            "\u001b[0;31m---------------------------------------------------------------------------\u001b[0m",
            "\u001b[0;31mTypeError\u001b[0m                                 Traceback (most recent call last)",
            "\u001b[0;32m/tmp/ipython-input-709957468.py\u001b[0m in \u001b[0;36m<cell line: 0>\u001b[0;34m()\u001b[0m\n\u001b[1;32m      2\u001b[0m \u001b[0;34m\u001b[0m\u001b[0m\n\u001b[1;32m      3\u001b[0m \u001b[0mx\u001b[0m \u001b[0;34m=\u001b[0m \u001b[0;34m'Polibatam'\u001b[0m\u001b[0;34m\u001b[0m\u001b[0;34m\u001b[0m\u001b[0m\n\u001b[0;32m----> 4\u001b[0;31m \u001b[0mx\u001b[0m\u001b[0;34m[\u001b[0m\u001b[0;36m0\u001b[0m\u001b[0;34m]\u001b[0m \u001b[0;34m=\u001b[0m \u001b[0;34m'f'\u001b[0m\u001b[0;34m\u001b[0m\u001b[0;34m\u001b[0m\u001b[0m\n\u001b[0m",
            "\u001b[0;31mTypeError\u001b[0m: 'str' object does not support item assignment"
          ]
        }
      ]
    },
    {
      "cell_type": "code",
      "source": [
        "#3_Metode_indexing\n",
        "\n",
        "x = 'Polibatam'\n",
        "print(x[4:])"
      ],
      "metadata": {
        "colab": {
          "base_uri": "https://localhost:8080/"
        },
        "id": "3HKm7TmRgo-d",
        "outputId": "c9e01e20-f00e-4ab1-86e3-ab24a230ba8a"
      },
      "execution_count": null,
      "outputs": [
        {
          "output_type": "stream",
          "name": "stdout",
          "text": [
            "batam\n"
          ]
        }
      ]
    },
    {
      "cell_type": "code",
      "source": [
        "#1_List\n",
        "\n",
        "x = [1, 2.2, 'Polibatam']\n",
        "print(type(x))"
      ],
      "metadata": {
        "colab": {
          "base_uri": "https://localhost:8080/"
        },
        "id": "F6s9t4qrhCrU",
        "outputId": "174681f8-9ba2-4dc7-f5b0-5831aa633703"
      },
      "execution_count": null,
      "outputs": [
        {
          "output_type": "stream",
          "name": "stdout",
          "text": [
            "<class 'list'>\n"
          ]
        }
      ]
    },
    {
      "cell_type": "code",
      "source": [
        "#2_List\n",
        "\n",
        "x = [1, 2.2, 'FANS EMYU']\n",
        "print(x)"
      ],
      "metadata": {
        "colab": {
          "base_uri": "https://localhost:8080/"
        },
        "id": "eQRE8U8OhZTE",
        "outputId": "d1be3bf6-8645-46ef-beec-7813c22e656e"
      },
      "execution_count": null,
      "outputs": [
        {
          "output_type": "stream",
          "name": "stdout",
          "text": [
            "[1, 2.2, 'FANS EMYU']\n"
          ]
        }
      ]
    },
    {
      "cell_type": "code",
      "source": [
        "#Indexing_List\n",
        "\n",
        "x = [1, 'Polibatam', True, 1.0]\n",
        "\n",
        "print(x[2])"
      ],
      "metadata": {
        "colab": {
          "base_uri": "https://localhost:8080/"
        },
        "id": "-im5nRVThn5z",
        "outputId": "ad0634ed-2784-4244-d9dc-71a735e81c2f"
      },
      "execution_count": null,
      "outputs": [
        {
          "output_type": "stream",
          "name": "stdout",
          "text": [
            "True\n"
          ]
        }
      ]
    },
    {
      "cell_type": "code",
      "source": [
        "#Mutable_List\n",
        "\n",
        "x = [1, 2.2, 'Polibatam']\n",
        "x[0] = 'GLORY GLORY MAN UNITED'\n",
        "print(x)"
      ],
      "metadata": {
        "colab": {
          "base_uri": "https://localhost:8080/"
        },
        "id": "36wmEFPEh-Dm",
        "outputId": "3dcbc2db-2528-4544-9a54-39ea66972f87"
      },
      "execution_count": null,
      "outputs": [
        {
          "output_type": "stream",
          "name": "stdout",
          "text": [
            "['GLORY GLORY MAN UNITED', 2.2, 'Polibatam']\n"
          ]
        }
      ]
    },
    {
      "cell_type": "code",
      "source": [
        "#Slicing_List\n",
        "\n",
        "x = [\"laptop\", \"monitor\", \"mouse\", \"mousepad\", \"keyboard\", \"webcam\", \"microphone\"]\n",
        "\n",
        "print(x[0:5:2])\n",
        "print(x[1:])\n",
        "print(x[:3])\n"
      ],
      "metadata": {
        "colab": {
          "base_uri": "https://localhost:8080/"
        },
        "id": "CzhL4qQvjL_L",
        "outputId": "c6b1c253-439f-4ed1-833a-7e6774e4932b"
      },
      "execution_count": null,
      "outputs": [
        {
          "output_type": "stream",
          "name": "stdout",
          "text": [
            "['laptop', 'mouse', 'keyboard']\n",
            "['monitor', 'mouse', 'mousepad', 'keyboard', 'webcam', 'microphone']\n",
            "['laptop', 'monitor', 'mouse']\n"
          ]
        }
      ]
    },
    {
      "cell_type": "code",
      "source": [
        "#Tuple\n",
        "\n",
        "x = (1, \"Polibatam\", 1+3j)\n",
        "print(type(x))\n"
      ],
      "metadata": {
        "colab": {
          "base_uri": "https://localhost:8080/"
        },
        "id": "de8_XMlXl917",
        "outputId": "5e612e3c-306b-4a1c-b816-f774eac9b766"
      },
      "execution_count": null,
      "outputs": [
        {
          "output_type": "stream",
          "name": "stdout",
          "text": [
            "<class 'tuple'>\n"
          ]
        }
      ]
    },
    {
      "cell_type": "code",
      "source": [
        "#Indexing_tuple\n",
        "\n",
        "x = (5, 'program', 1+3j)\n",
        "print(x[1])\n",
        "print(x[0:3])\n"
      ],
      "metadata": {
        "colab": {
          "base_uri": "https://localhost:8080/"
        },
        "id": "o_QId_AnmOI6",
        "outputId": "da361b5c-7280-4ad8-c98e-eca437519d62"
      },
      "execution_count": null,
      "outputs": [
        {
          "output_type": "stream",
          "name": "stdout",
          "text": [
            "program\n",
            "(5, 'program', (1+3j))\n"
          ]
        }
      ]
    },
    {
      "cell_type": "code",
      "source": [
        "#Immutable_tuple\n",
        "\n",
        "x = (5, 'program', 1+3j)\n",
        "x[1] = 'Polibatam'"
      ],
      "metadata": {
        "colab": {
          "base_uri": "https://localhost:8080/",
          "height": 176
        },
        "id": "IDGYEvmMmpo6",
        "outputId": "b4c00cfb-09fd-426e-bebf-1e0162def32a"
      },
      "execution_count": null,
      "outputs": [
        {
          "output_type": "error",
          "ename": "TypeError",
          "evalue": "'tuple' object does not support item assignment",
          "traceback": [
            "\u001b[0;31m---------------------------------------------------------------------------\u001b[0m",
            "\u001b[0;31mTypeError\u001b[0m                                 Traceback (most recent call last)",
            "\u001b[0;32m/tmp/ipython-input-3864720047.py\u001b[0m in \u001b[0;36m<cell line: 0>\u001b[0;34m()\u001b[0m\n\u001b[1;32m      2\u001b[0m \u001b[0;34m\u001b[0m\u001b[0m\n\u001b[1;32m      3\u001b[0m \u001b[0mx\u001b[0m \u001b[0;34m=\u001b[0m \u001b[0;34m(\u001b[0m\u001b[0;36m5\u001b[0m\u001b[0;34m,\u001b[0m \u001b[0;34m'program'\u001b[0m\u001b[0;34m,\u001b[0m \u001b[0;36m1\u001b[0m\u001b[0;34m+\u001b[0m\u001b[0;36m3j\u001b[0m\u001b[0;34m)\u001b[0m\u001b[0;34m\u001b[0m\u001b[0;34m\u001b[0m\u001b[0m\n\u001b[0;32m----> 4\u001b[0;31m \u001b[0mx\u001b[0m\u001b[0;34m[\u001b[0m\u001b[0;36m1\u001b[0m\u001b[0;34m]\u001b[0m \u001b[0;34m=\u001b[0m \u001b[0;34m'Polibatam'\u001b[0m\u001b[0;34m\u001b[0m\u001b[0;34m\u001b[0m\u001b[0m\n\u001b[0m",
            "\u001b[0;31mTypeError\u001b[0m: 'tuple' object does not support item assignment"
          ]
        }
      ]
    },
    {
      "cell_type": "code",
      "source": [
        "#Set\n",
        "\n",
        "x = {1, 2, 7, 2, 3, 13, 3}\n",
        "print(x)\n",
        "print(type(x))"
      ],
      "metadata": {
        "colab": {
          "base_uri": "https://localhost:8080/"
        },
        "id": "G7eEik_-nhsC",
        "outputId": "efbb8229-7d74-4e6a-aad4-d8b638f3f826"
      },
      "execution_count": null,
      "outputs": [
        {
          "output_type": "stream",
          "name": "stdout",
          "text": [
            "{1, 2, 3, 7, 13}\n",
            "<class 'set'>\n"
          ]
        }
      ]
    },
    {
      "cell_type": "code",
      "source": [
        "#1_Set\n",
        "\n",
        "set1 = {1, 2, 3, 4, 5}\n",
        "set2 = {4, 5, 6, 7, 8,}\n",
        "\n",
        "union = set1.union(set2)\n",
        "print(\"Union:\", union)\n",
        "\n",
        "intersection = set1.intersection(set2)\n",
        "print(\"intersection:\", intersection)"
      ],
      "metadata": {
        "colab": {
          "base_uri": "https://localhost:8080/"
        },
        "id": "myQyw-CvnwmJ",
        "outputId": "4083402f-8d6a-46f2-d05e-845b622e0fc5"
      },
      "execution_count": null,
      "outputs": [
        {
          "output_type": "stream",
          "name": "stdout",
          "text": [
            "Union: {1, 2, 3, 4, 5, 6, 7, 8}\n",
            "intersection: {4, 5}\n"
          ]
        }
      ]
    },
    {
      "cell_type": "code",
      "source": [
        "#Dictionary\n",
        "\n",
        "x = { 'name': 'Dzaki Naufal Ilham', 'age': 20, 'ismarried': False}\n",
        "print(type(x))\n"
      ],
      "metadata": {
        "colab": {
          "base_uri": "https://localhost:8080/"
        },
        "id": "oScbNvKoovga",
        "outputId": "26d06609-2271-4166-a487-bd3163f289be"
      },
      "execution_count": null,
      "outputs": [
        {
          "output_type": "stream",
          "name": "stdout",
          "text": [
            "<class 'dict'>\n"
          ]
        }
      ]
    },
    {
      "cell_type": "code",
      "source": [
        "#no_indexing\n",
        "x = { 'name': 'Dzaki Naufal Ilham', 'age': 20, 'ismarried': False }\n",
        "print(x[0])"
      ],
      "metadata": {
        "colab": {
          "base_uri": "https://localhost:8080/",
          "height": 176
        },
        "id": "MPgFwjFbpNN8",
        "outputId": "cae117b4-197c-45b8-b644-9cc83be607a8"
      },
      "execution_count": null,
      "outputs": [
        {
          "output_type": "error",
          "ename": "KeyError",
          "evalue": "0",
          "traceback": [
            "\u001b[0;31m---------------------------------------------------------------------------\u001b[0m",
            "\u001b[0;31mKeyError\u001b[0m                                  Traceback (most recent call last)",
            "\u001b[0;32m/tmp/ipython-input-1950419192.py\u001b[0m in \u001b[0;36m<cell line: 0>\u001b[0;34m()\u001b[0m\n\u001b[1;32m      1\u001b[0m \u001b[0;31m#no_indexing\u001b[0m\u001b[0;34m\u001b[0m\u001b[0;34m\u001b[0m\u001b[0m\n\u001b[1;32m      2\u001b[0m \u001b[0mx\u001b[0m \u001b[0;34m=\u001b[0m \u001b[0;34m{\u001b[0m \u001b[0;34m'name'\u001b[0m\u001b[0;34m:\u001b[0m \u001b[0;34m'Dzaki Naufal Ilham'\u001b[0m\u001b[0;34m,\u001b[0m \u001b[0;34m'age'\u001b[0m\u001b[0;34m:\u001b[0m \u001b[0;36m20\u001b[0m\u001b[0;34m,\u001b[0m \u001b[0;34m'ismarried'\u001b[0m\u001b[0;34m:\u001b[0m \u001b[0;32mFalse\u001b[0m \u001b[0;34m}\u001b[0m\u001b[0;34m\u001b[0m\u001b[0;34m\u001b[0m\u001b[0m\n\u001b[0;32m----> 3\u001b[0;31m \u001b[0mprint\u001b[0m\u001b[0;34m(\u001b[0m\u001b[0mx\u001b[0m\u001b[0;34m[\u001b[0m\u001b[0;36m0\u001b[0m\u001b[0;34m]\u001b[0m\u001b[0;34m)\u001b[0m\u001b[0;34m\u001b[0m\u001b[0;34m\u001b[0m\u001b[0m\n\u001b[0m",
            "\u001b[0;31mKeyError\u001b[0m: 0"
          ]
        }
      ]
    },
    {
      "cell_type": "code",
      "source": [
        "#2_Dictionary\n",
        "\n",
        "x = {'name': 'Dzaki Naufal Ilham', 'age': 19, 'ismarried': False}\n",
        "print(x['name'])"
      ],
      "metadata": {
        "colab": {
          "base_uri": "https://localhost:8080/"
        },
        "id": "og-yW84fprYs",
        "outputId": "f235fd7c-c972-4ba2-d30b-bc5f0b2efb17"
      },
      "execution_count": null,
      "outputs": [
        {
          "output_type": "stream",
          "name": "stdout",
          "text": [
            "Dzaki Naufal Ilham\n"
          ]
        }
      ]
    },
    {
      "cell_type": "code",
      "source": [
        "#menambah_data\n",
        "\n",
        "x = {'name': 'Dzaki Naufal Ilham', 'age': 19, 'ismarried': False}\n",
        "x ['job'] = \"Presiden Club Man United\"\n",
        "\n",
        "print((x))"
      ],
      "metadata": {
        "colab": {
          "base_uri": "https://localhost:8080/"
        },
        "id": "tIK06QzqqTJz",
        "outputId": "871e0351-5cce-472f-a579-77f625b97771"
      },
      "execution_count": null,
      "outputs": [
        {
          "output_type": "stream",
          "name": "stdout",
          "text": [
            "{'name': 'Dzaki Naufal Ilham', 'age': 19, 'ismarried': False, 'job': 'Presiden Club Man United'}\n"
          ]
        }
      ]
    },
    {
      "cell_type": "code",
      "source": [
        "#Menghapus_data\n",
        "\n",
        "x = {'name': 'Dzaki Naufal Ilham', 'age': 19, 'ismarried': False}\n",
        "del x['ismarried']\n",
        "\n",
        "print(x)\n"
      ],
      "metadata": {
        "colab": {
          "base_uri": "https://localhost:8080/"
        },
        "id": "0x79hwTZsl_z",
        "outputId": "0e0bd600-e741-4a2d-e647-7e0121de5ac7"
      },
      "execution_count": null,
      "outputs": [
        {
          "output_type": "stream",
          "name": "stdout",
          "text": [
            "{'name': 'Dzaki Naufal Ilham', 'age': 19}\n"
          ]
        }
      ]
    },
    {
      "cell_type": "code",
      "source": [
        "#Mnegubah_data\n",
        "\n",
        "x = {'name': 'Dzaki Naufal Ilham', 'age': 19, 'ismarried': False}\n",
        "x ['name'] = 'Exvan'\n",
        "\n",
        "print(x)"
      ],
      "metadata": {
        "colab": {
          "base_uri": "https://localhost:8080/"
        },
        "id": "pw0J1xZfswB4",
        "outputId": "4ad7c048-ee72-41b6-a4c5-2801f3ebcc75"
      },
      "execution_count": null,
      "outputs": [
        {
          "output_type": "stream",
          "name": "stdout",
          "text": [
            "{'name': 'Exvan', 'age': 19, 'ismarried': False}\n"
          ]
        }
      ]
    }
  ]
}