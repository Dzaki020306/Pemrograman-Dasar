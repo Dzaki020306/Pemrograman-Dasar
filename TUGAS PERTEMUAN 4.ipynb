{
  "cells": [
    {
      "cell_type": "markdown",
      "metadata": {
        "id": "view-in-github",
        "colab_type": "text"
      },
      "source": [
        "<a href=\"https://colab.research.google.com/github/Dzaki020306/Pemrograman-Dasar/blob/main/TUGAS%20PERTEMUAN%204.ipynb\" target=\"_parent\"><img src=\"https://colab.research.google.com/assets/colab-badge.svg\" alt=\"Open In Colab\"/></a>"
      ]
    },
    {
      "cell_type": "code",
      "execution_count": null,
      "metadata": {
        "colab": {
          "base_uri": "https://localhost:8080/"
        },
        "id": "_sM090PMVrvL",
        "outputId": "63c4db22-b31d-4823-dbd2-3f193813506b"
      },
      "outputs": [
        {
          "output_type": "stream",
          "name": "stdout",
          "text": [
            "pengunjung adalah orang dewasa.\n"
          ]
        }
      ],
      "source": [
        "umur: int = 20\n",
        "\n",
        "\n",
        "if umur > 19:\n",
        "  print(\"pengunjung adalah orang dewasa.\")"
      ]
    },
    {
      "cell_type": "code",
      "source": [
        "username = input (\"masukkan username: \")\n",
        "password = input (\"masukkan password: \")\n",
        "\n",
        "if username == \"admin\" and password == \"1234\":\n",
        "  print(\"login berhasil\")\n",
        "else:\n",
        "  print(\"login gagal\")"
      ],
      "metadata": {
        "colab": {
          "base_uri": "https://localhost:8080/"
        },
        "id": "-sf3NSqzl0hi",
        "outputId": "14b0ebb7-18a6-4f37-aab9-a115a94b4c26"
      },
      "execution_count": null,
      "outputs": [
        {
          "output_type": "stream",
          "name": "stdout",
          "text": [
            "masukkan username: dzanop\n",
            "masukkan password: 123456\n",
            "login gagal\n"
          ]
        }
      ]
    },
    {
      "cell_type": "code",
      "source": [
        "total_belanja = input(\"total belanja: Rp \")\n",
        "bayar = int(total_belanja)\n",
        "\n",
        "if int(total_belanja) > 100000:\n",
        "  print(\"selamat karena belanja > Rp. 100.000 anda mendapat voucher makan\")\n",
        "  print(\"dan diskon 5%\")\n",
        "\n",
        "  diskon = int(total_belanja) + 5/100 #5%\n",
        "  bayar = int(total_belanja) - diskon\n",
        "\n",
        "  print(\"total yang harus di bayar: Rp %s\" % bayar)\n",
        "  print(\"terima kasih sudah berbelanja di toko kami\")\n",
        "  print(\"kami tunggu kunjungan anda selanjutnya.\")"
      ],
      "metadata": {
        "colab": {
          "base_uri": "https://localhost:8080/"
        },
        "id": "7dgfstkLmZ-K",
        "outputId": "40489bdd-2af5-4ba3-d7b5-282392c3cf17"
      },
      "execution_count": null,
      "outputs": [
        {
          "name": "stdout",
          "output_type": "stream",
          "text": [
            "total belanja: Rp 50000\n"
          ]
        }
      ]
    },
    {
      "cell_type": "code",
      "source": [
        "ada_notifikasi_baru: bool = True\n",
        "\n",
        "if ada_notifikasi_baru:\n",
        "  print(\"anda memiliki pesan baru!\")"
      ],
      "metadata": {
        "colab": {
          "base_uri": "https://localhost:8080/"
        },
        "id": "GESmSk5vn9Aq",
        "outputId": "7b7f4417-6f0b-4e54-ed18-2cfe6a9313f3"
      },
      "execution_count": null,
      "outputs": [
        {
          "output_type": "stream",
          "name": "stdout",
          "text": [
            "anda memiliki pesan baru!\n"
          ]
        }
      ]
    },
    {
      "cell_type": "code",
      "source": [
        "umur = input(\"berapa umur kamu: \")\n",
        "if int(umur) >= 19:\n",
        "  print(\"anda boleh membuat sim\")\n",
        "else:\n",
        "  print(\"anda belum boleh membuat sim\")"
      ],
      "metadata": {
        "colab": {
          "base_uri": "https://localhost:8080/"
        },
        "id": "zkrWOXBeo3eJ",
        "outputId": "607d0af9-b85b-4675-d78d-030de9f78e84"
      },
      "execution_count": null,
      "outputs": [
        {
          "output_type": "stream",
          "name": "stdout",
          "text": [
            "berapa umur kamu: 17\n",
            "anda belum boleh membuat sim\n"
          ]
        }
      ]
    },
    {
      "cell_type": "code",
      "source": [
        "total_belanja = 30000\n",
        "\n",
        "if total_belanja > 200000:\n",
        "  diskon = total_belanja * 0.10\n",
        "  total_bayar = total_belanja - diskon\n",
        "  print(f\"anda mendapat diskon! total bayar: Rp {total_bayar}\")\n",
        "else:\n",
        "  print(f\"total bayar: Rp {total_belanja}\")\n"
      ],
      "metadata": {
        "colab": {
          "base_uri": "https://localhost:8080/"
        },
        "id": "BoNO5cyQpMC4",
        "outputId": "24a4d678-85e2-4363-b9e9-a3c05b278668"
      },
      "execution_count": null,
      "outputs": [
        {
          "output_type": "stream",
          "name": "stdout",
          "text": [
            "total bayar: Rp 30000\n"
          ]
        }
      ]
    },
    {
      "cell_type": "code",
      "source": [
        "angka = int(input(\"masukkan angka: \"))\n",
        "\n",
        "if angka % 2 == 0:\n",
        "  print(\"angka genap\")\n",
        "else:\n",
        "  print(\"angka ganjil\")"
      ],
      "metadata": {
        "colab": {
          "base_uri": "https://localhost:8080/"
        },
        "id": "RMJ6g7hkqM_T",
        "outputId": "505016de-63d0-4b2c-c5e3-8d4a62caaf1c"
      },
      "execution_count": null,
      "outputs": [
        {
          "output_type": "stream",
          "name": "stdout",
          "text": [
            "masukkan angka: 9\n",
            "angka ganjil\n"
          ]
        }
      ]
    },
    {
      "cell_type": "code",
      "source": [
        "nilai = 80\n",
        "if nilai >= 85:\n",
        "  print(\"luar biasa! NILAI A\")\n",
        "elif nilai >= 70:\n",
        "  print(\"bagus! NILAI B\")\n",
        "elif nilai >= 60:\n",
        "  print(\"cukup. NILAI C\")\n",
        "else:\n",
        "  print(\"nilai kurang, perlu belajar lebih giat.\")"
      ],
      "metadata": {
        "colab": {
          "base_uri": "https://localhost:8080/"
        },
        "id": "pP5JZPGIqWxw",
        "outputId": "2b024654-a4b2-40cb-ac7c-5639b14fe9e4"
      },
      "execution_count": null,
      "outputs": [
        {
          "output_type": "stream",
          "name": "stdout",
          "text": [
            "bagus! NILAI B\n"
          ]
        }
      ]
    },
    {
      "cell_type": "code",
      "source": [
        "hari: str = \"sabtu\"\n",
        "\n",
        "if hari == \"sabtu\" or hari == \"minggu\":\n",
        "  diskon: float =0.20\n",
        "  print(f\"selamat! anda mendapat diskon akhir pekan sebesar {diskon*100}%.\")\n",
        "elif hari == \"jumat\":\n",
        "  diskon: float = 0.15\n",
        "  print(f\"diskon spesial jumat! anda mendapat potongan {diskon*100}%.\")\n",
        "else:\n",
        "  diskon: float = 0.05\n",
        "  print(f\"anda mendapat diskon hari biasa sebesar {diskon*100}%.\")"
      ],
      "metadata": {
        "colab": {
          "base_uri": "https://localhost:8080/"
        },
        "id": "zSt99id7rF8a",
        "outputId": "f8824ed8-f3f6-4122-99e4-4a302fee7ed9"
      },
      "execution_count": null,
      "outputs": [
        {
          "output_type": "stream",
          "name": "stdout",
          "text": [
            "selamat! anda mendapat diskon akhir pekan sebesar 20.0%.\n"
          ]
        }
      ]
    },
    {
      "cell_type": "code",
      "source": [
        "rupiah = int(input(\"masukkan jumlah uang (Rp): \"))\n",
        "print(\"1. DOLLAR (USD)\")\n",
        "print(\"2. EURO (EUR)\")\n",
        "print(\"3. YEN (CNY)\")\n",
        "pilih = int(input(\"pilih konversi (1/2/3): \"))\n",
        "\n",
        "if pilih == 1:\n",
        "  print(\"dalam DOLLAR:\", rupiah / 15000)\n",
        "elif pilih == 2:\n",
        "  print(\"dalam EURO:\", rupiah / 16000)\n",
        "elif pilih == 3:\n",
        "  print(\"dalam YEN:\", rupiah / 120)\n",
        "else:\n",
        "  print(\"pilihan tidak valid\")"
      ],
      "metadata": {
        "colab": {
          "base_uri": "https://localhost:8080/"
        },
        "id": "TDjw_Do9sQFi",
        "outputId": "537059dd-aff7-4509-86f2-0d0020ffe695"
      },
      "execution_count": null,
      "outputs": [
        {
          "output_type": "stream",
          "name": "stdout",
          "text": [
            "masukkan jumlah uang (Rp): 100000\n",
            "1. DOLLAR (USD)\n",
            "2. EURO (EUR)\n",
            "3. YEN (CNY)\n",
            "pilih konversi (1/2/3): 2\n",
            "dalam EURO: 6.25\n"
          ]
        }
      ]
    }
  ],
  "metadata": {
    "colab": {
      "provenance": [],
      "authorship_tag": "ABX9TyPW1JX13GlHS9v/7xAtPwJ9",
      "include_colab_link": true
    },
    "kernelspec": {
      "display_name": "Python 3",
      "name": "python3"
    },
    "language_info": {
      "name": "python"
    }
  },
  "nbformat": 4,
  "nbformat_minor": 0
}